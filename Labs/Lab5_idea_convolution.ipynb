{
  "cells": [
    {
      "cell_type": "code",
      "source": [
        "!wget https://eadn-wc05-693804.nxedge.io/cdn/wp-content/uploads/2018/09/2782135-Copy.jpg -O moai.jpg"
      ],
      "metadata": {
        "id": "OT2eAD8jBuzO"
      },
      "execution_count": null,
      "outputs": []
    },
    {
      "cell_type": "code",
      "execution_count": 2,
      "metadata": {
        "id": "QU243Vl_LyUr"
      },
      "outputs": [],
      "source": [
        "import numpy as np\n",
        "import matplotlib.pyplot as plt\n",
        "import cv2"
      ]
    },
    {
      "cell_type": "code",
      "execution_count": 3,
      "metadata": {
        "id": "nNeQCecxLyUu"
      },
      "outputs": [],
      "source": [
        "#Funcion que calcula la convolucion de una imagen con un filtro\n",
        "def convolution(image, kernel):\n",
        "    #Zero padding\n",
        "    shift_row = kernel.shape[0]//2\n",
        "    shift_col = kernel.shape[1]//2\n",
        "    \n",
        "    new_image = np.zeros((image.shape[0] + 2*shift_row, image.shape[1] + 2*shift_col), \n",
        "                         np.float32)\n",
        "    new_image[shift_row:image.shape[0]+shift_row,shift_col:image.shape[1]+shift_col] = image\n",
        "    \n",
        "    #Imagen resultante\n",
        "    new_image2 = np.zeros((new_image.shape[0], new_image.shape[1]), np.float32)\n",
        "    \n",
        "    #Perform filtering\n",
        "    for i in range(shift_row, image.shape[0]+shift_row):\n",
        "        for j in range(shift_col, image.shape[1]+shift_col):\n",
        "            aux = new_image[i-shift_row:i+shift_row+1, j-shift_col:j+shift_col+1]\n",
        "            new_image2[i,j] = np.sum(aux*kernel)\n",
        "            \n",
        "    return new_image2[shift_row:image.shape[0]+shift_row,shift_col:image.shape[1]+shift_col]"
      ]
    },
    {
      "cell_type": "code",
      "execution_count": null,
      "metadata": {
        "id": "HyZKQgUKLyUu"
      },
      "outputs": [],
      "source": [
        "im = cv2.imread('moai.jpg', 0)\n",
        "sizeKernel = 7\n",
        "kernel = (1/(sizeKernel**2))*np.ones((sizeKernel,sizeKernel))\n",
        "\n",
        "im2 = convolution(im, kernel)\n",
        "\n",
        "plt.figure(figsize=(15,15))\n",
        "plt.subplot(1,2,1), plt.imshow(im, cmap='gray'), plt.axis(False)\n",
        "plt.subplot(1,2,2), plt.imshow(im2, cmap='gray'), plt.axis(False)\n",
        "plt.show()"
      ]
    },
    {
      "cell_type": "code",
      "execution_count": null,
      "metadata": {
        "id": "h4XI66V7LyUv"
      },
      "outputs": [],
      "source": [
        "im = cv2.imread('moai.jpg', 0)\n",
        "kernel = np.array([[-1, -2, -1],[0,0,0],[1, 2, 1]], int)\n",
        "\n",
        "im2 = convolution(im, kernel)\n",
        "\n",
        "plt.figure(figsize=(15,15))\n",
        "plt.imshow(im2, cmap='gray'), plt.axis(False)\n",
        "plt.show()\n",
        "\n"
      ]
    },
    {
      "cell_type": "code",
      "execution_count": null,
      "metadata": {
        "id": "N6Mv1D-1LyUw"
      },
      "outputs": [],
      "source": [
        "im = cv2.imread('moai.jpg', 0)\n",
        "kernel = np.array([[-1, 0, 1],[-2,0,2],[-1, 0, 1]], int)\n",
        "\n",
        "im2 = convolution(im, kernel)\n",
        "\n",
        "plt.figure(figsize=(15,15))\n",
        "plt.imshow(im2, cmap='gray'), plt.axis(False)\n",
        "plt.show()\n"
      ]
    },
    {
      "cell_type": "code",
      "execution_count": null,
      "metadata": {
        "id": "6Ddq61g7LyUw"
      },
      "outputs": [],
      "source": []
    }
  ],
  "metadata": {
    "kernelspec": {
      "display_name": "Python 3",
      "language": "python",
      "name": "python3"
    },
    "language_info": {
      "codemirror_mode": {
        "name": "ipython",
        "version": 3
      },
      "file_extension": ".py",
      "mimetype": "text/x-python",
      "name": "python",
      "nbconvert_exporter": "python",
      "pygments_lexer": "ipython3",
      "version": "3.8.1"
    },
    "colab": {
      "provenance": []
    }
  },
  "nbformat": 4,
  "nbformat_minor": 0
}