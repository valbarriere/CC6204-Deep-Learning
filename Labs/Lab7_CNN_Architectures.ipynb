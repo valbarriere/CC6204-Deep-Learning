{
  "nbformat": 4,
  "nbformat_minor": 0,
  "metadata": {
    "colab": {
      "provenance": [],
      "collapsed_sections": []
    },
    "kernelspec": {
      "name": "python3",
      "display_name": "Python 3"
    },
    "accelerator": "GPU"
  },
  "cells": [
    {
      "cell_type": "code",
      "metadata": {
        "id": "B9PTD5jfnXvk"
      },
      "source": [
        "import torch\n",
        "import torchvision.models as models\n",
        "import torch.nn.functional as F\n",
        "import json, time, datetime\n",
        "import torchvision.transforms as T\n",
        "from PIL import Image\n",
        "import matplotlib.pyplot as plt\n",
        "import numpy as np\n"
      ],
      "execution_count": 1,
      "outputs": []
    },
    {
      "cell_type": "code",
      "metadata": {
        "id": "MifdBbMan6o5"
      },
      "source": [
        "networkAlexnet = models.alexnet(pretrained=True)\n"
      ],
      "execution_count": null,
      "outputs": []
    },
    {
      "cell_type": "code",
      "metadata": {
        "id": "YfTL3_X0ov7k"
      },
      "source": [
        "print(networkAlexnet)"
      ],
      "execution_count": null,
      "outputs": []
    },
    {
      "cell_type": "code",
      "metadata": {
        "id": "q0ejcjJ4o2e0"
      },
      "source": [
        "import torchsummary as ts\n",
        "\n",
        "ts.summary(networkAlexnet.to('cuda'), (3, 224, 224))"
      ],
      "execution_count": null,
      "outputs": []
    },
    {
      "cell_type": "code",
      "source": [
        "import requests\n",
        "\n",
        "response = requests.get(\"https://raw.githubusercontent.com/valbarriere/CC6204-Deep-Learning/master/Additional_Material/utils/labels.txt\") # https://git.io/JJkYN\n",
        "labels = response.text.split(\"\\n\")"
      ],
      "metadata": {
        "id": "0RwVgRP0exsV"
      },
      "execution_count": 8,
      "outputs": []
    },
    {
      "cell_type": "code",
      "source": [
        "print(labels)"
      ],
      "metadata": {
        "id": "0cN1B8O5e4iG"
      },
      "execution_count": null,
      "outputs": []
    },
{
      "cell_type": "code",
      "source": [
        "!wget https://raw.githubusercontent.com/valbarriere/CC6204-Deep-Learning/master/Additional_Material/utils/elephant.jpg -O elephant.jpg\n",
        "# https://e0.pxfuel.com/wallpapers/264/159/desktop-wallpaper-elephant-yellow-field-tanzania-elephant-yellow.jpg"
      ],
      "metadata": {
        "id": "OT2eAD8jBuzO"
      },
      "execution_count": null,
      "outputs": []
    },
    {
      "cell_type": "code",
      "metadata": {
        "id": "z2nCUg7AzcT_"
      },
      "source": [
        "img = Image.open('elephant.jpg')\n",
        "img"
      ],
      "execution_count": null,
      "outputs": []
    },
    {
      "cell_type": "code",
      "metadata": {
        "id": "F_GHJtUXtobi"
      },
      "source": [
        "networkAlexnet.eval()\n",
        "\n",
        "def transform_image(name):\n",
        "  transf = T.Compose([T.Resize(255),\n",
        "                      T.CenterCrop(224),\n",
        "                      T.ToTensor(),\n",
        "                      T.Normalize([0.485,0.456,0.406],[0.229,0.224,0.225])])\n",
        "  image = Image.open(name)\n",
        "  # Size (3, 224, 224) => (1, 3, 224, 224)\n",
        "  return transf(image).unsqueeze(0) \n",
        "\n",
        "def predict(network, name):\n",
        "  tensor = transform_image(name).to('cuda')\n",
        "  pred = network(tensor)\n",
        "  output = F.softmax(pred, dim=-1)\n",
        "  conf,val = output.max(1)\n",
        "  index = str(val.item())\n",
        "  o = output.detach().cpu().numpy()\n",
        "  print([(l, labels[k]) for k, l in zip(np.argsort(o[0])[-5:][::-1], np.sort(o[0])[-5:][::-1])])\n",  
        "  return o, dict({'conf':conf,'class':labels[val.item()]})\n",
        "\n",
        "o,d = predict(networkAlexnet.to('cuda'), 'elephant.jpg')\n",
        "print(d)\n",
        "\n",
        "plt.plot(o[0])\n",
        "plt.show()"
      ],
      "execution_count": null,
      "outputs": []
    },
    {
      "cell_type": "code",
      "metadata": {
        "id": "64ep6IPX87Z6"
      },
      "source": [
        "networkVGG11 = models.vgg11(pretrained=True)\n",
        "networkVGG11.eval()\n"
      ],
      "execution_count": null,
      "outputs": []
    },
    {
      "cell_type": "code",
      "metadata": {
        "id": "JSpIMIdG_5Sq"
      },
      "source": [
        "o,d = predict(networkVGG11.to('cuda'), 'elephant.jpg')\n",
        "plt.plot(o[0])\n",
        "plt.show()\n",
        "print(d)"
      ],
      "execution_count": null,
      "outputs": []
    },
    {
      "cell_type": "code",
      "metadata": {
        "id": "T4uxigunAk_M"
      },
      "source": [
        "networkGooglenet = models.googlenet(pretrained = True)\n",
        "networkGooglenet.eval()"
      ],
      "execution_count": null,
      "outputs": []
    },
    {
      "cell_type": "code",
      "metadata": {
        "id": "4GKa5ebnwQ7H"
      },
      "source": [
        "o,d = predict(networkGooglenet.to('cuda'), 'elephant.jpg')\n",
        "\n",
        "plt.plot(o[0])\n",
        "plt.show()\n",
        "\n",
        "print(d)"
      ],
      "execution_count": null,
      "outputs": []
    },
    {
      "cell_type": "code",
      "metadata": {
        "id": "G1oE4MXTwiHW"
      },
      "source": [
        "import torchsummary as ts\n",
        "\n",
        "ts.summary(networkGooglenet, (3, 224, 224))"
      ],
      "execution_count": null,
      "outputs": []
    },
    {
      "cell_type": "code",
      "metadata": {
        "id": "c-ACZjtP1Ti3"
      },
      "source": [
        "networkResnet = models.resnet18(pretrained=True)\n",
        "networkResnet.eval()\n",
        "\n",
        "print(networkResnet)"
      ],
      "execution_count": null,
      "outputs": []
    },
    {
      "cell_type": "code",
      "metadata": {
        "id": "ypQBJvKP_ITQ"
      },
      "source": [
        "o,d = predict(networkResnet.to('cuda'), 'elephant.jpg')\n",
        "\n",
        "plt.plot(o[0])\n",
        "plt.show()\n",
        "\n",
        "print(d)"
      ],
      "execution_count": null,
      "outputs": []
    },
    {
      "cell_type": "code",
      "source": [],
      "metadata": {
        "id": "DqpDQC94gDAn"
      },
      "execution_count": null,
      "outputs": []
    }
  ]
}